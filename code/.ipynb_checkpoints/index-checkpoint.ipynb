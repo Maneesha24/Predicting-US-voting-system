{
 "cells": [
  {
   "cell_type": "markdown",
   "metadata": {},
   "source": [
    "### CS 5644: MACHINE LEARNING WITH BIG DATA ASSIGNMENT 2"
   ]
  },
  {
   "cell_type": "code",
   "execution_count": 1,
   "metadata": {},
   "outputs": [],
   "source": [
    "import numpy as np\n",
    "import pandas as pd\n",
    "from sklearn import preprocessing\n",
    "from sklearn.model_selection import train_test_split\n",
    "from sklearn.naive_bayes import GaussianNB\n",
    "from sklearn.tree import DecisionTreeClassifier\n",
    "from sklearn.model_selection import KFold\n",
    "from sklearn import metrics"
   ]
  },
  {
   "cell_type": "code",
   "execution_count": 2,
   "metadata": {},
   "outputs": [],
   "source": [
    "column_names = ['Class Name', 'Handicapped Infants','Water Project Cost Sharing',\n",
    "               'Adoption of the budget resolution', 'Physician fee freeze',\n",
    "                'El salvador aid', 'Religious groups in schools', 'Anti-satellite test ban',\n",
    "               'Aid to nicaraguan contras', 'MX Missile', 'Immigration', \n",
    "                'Synfuels corporation cutback', 'Education spending', \n",
    "                'Superfund right to sue', 'Crime', 'Duty free exports', \n",
    "                'Export administration act south africa']\n",
    "dataframe = pd.read_csv('../data/info.data', names = column_names, header=None);"
   ]
  },
  {
   "cell_type": "markdown",
   "metadata": {},
   "source": [
    "### Replacing missing values ? with NaN"
   ]
  },
  {
   "cell_type": "code",
   "execution_count": 3,
   "metadata": {},
   "outputs": [],
   "source": [
    "def replace_nan_dataframe(df):\n",
    "    return df.replace('?', np.NaN)\n",
    "\n",
    "dataframe = replace_nan_dataframe(dataframe)"
   ]
  },
  {
   "cell_type": "markdown",
   "metadata": {},
   "source": [
    "### Dropping NaN values"
   ]
  },
  {
   "cell_type": "code",
   "execution_count": 4,
   "metadata": {},
   "outputs": [],
   "source": [
    "def dropping_nan_values(df):\n",
    "    return df.dropna(how = 'any')"
   ]
  },
  {
   "cell_type": "markdown",
   "metadata": {},
   "source": [
    "### Treat missing values as a value "
   ]
  },
  {
   "cell_type": "code",
   "execution_count": 5,
   "metadata": {},
   "outputs": [],
   "source": [
    "def treat_missing_values(df):\n",
    "    treated_missing_values = df;\n",
    "    for column in treated_missing_values.columns:  \n",
    "        treated_missing_values[column].fillna('m', inplace = True)\n",
    "    return treated_missing_values\n"
   ]
  },
  {
   "cell_type": "markdown",
   "metadata": {},
   "source": [
    "### Impute missing values "
   ]
  },
  {
   "cell_type": "code",
   "execution_count": 6,
   "metadata": {},
   "outputs": [],
   "source": [
    "def impute_missing_values(df):\n",
    "    imputed_dataframe = df;\n",
    "    for column in imputed_dataframe.columns:  \n",
    "        imputed_dataframe[column].fillna(imputed_dataframe[column].mode()[0], inplace = True)\n",
    "    return imputed_dataframe\n"
   ]
  },
  {
   "cell_type": "markdown",
   "metadata": {},
   "source": [
    "### Label encoding "
   ]
  },
  {
   "cell_type": "code",
   "execution_count": 7,
   "metadata": {},
   "outputs": [],
   "source": [
    "label_encoder = preprocessing.LabelEncoder()\n",
    "\n",
    "def label_encoding(df):\n",
    "    handicapped_infants_encoded = label_encoder.fit_transform(df['Handicapped Infants'])\n",
    "    water_project_cost_sharing_encoded = label_encoder.fit_transform(df['Water Project Cost Sharing'])\n",
    "    adoption_of_the_budget_resolution_encoded = label_encoder.fit_transform(df['Adoption of the budget resolution'])\n",
    "    physician_fee_freeze_encoded = label_encoder.fit_transform(df['Physician fee freeze'])\n",
    "    el_salvador_aid_encoded = label_encoder.fit_transform(df['El salvador aid'])\n",
    "    religious_groups_in_schools_encoded = label_encoder.fit_transform(df['Religious groups in schools'])\n",
    "    anti_satellite_test_ban_encoded = label_encoder.fit_transform(df['Anti-satellite test ban'])\n",
    "    aid_to_nicaraguan_contras_encoded = label_encoder.fit_transform(df['Aid to nicaraguan contras'])\n",
    "    mx_missile_encoded = label_encoder.fit_transform(df['MX Missile'])\n",
    "    immigration_encoded = label_encoder.fit_transform(df['Immigration'])\n",
    "    synfuels_corporation_cutback_encoded = label_encoder.fit_transform(df['Synfuels corporation cutback'])\n",
    "    education_spending_encoded = label_encoder.fit_transform(df['Education spending'])\n",
    "    superfund_right_to_sue_encoded = label_encoder.fit_transform(df['Superfund right to sue'])\n",
    "    crime_encoded = label_encoder.fit_transform(df['Crime'])\n",
    "    duty_free_exports_encoded = label_encoder.fit_transform(df['Duty free exports'])\n",
    "    export_administration_act_south_africa_encoded = label_encoder.fit_transform(df['Export administration act south africa'])\n",
    "\n",
    "    features = zip(handicapped_infants_encoded,water_project_cost_sharing_encoded, adoption_of_the_budget_resolution_encoded,\n",
    "                  physician_fee_freeze_encoded, el_salvador_aid_encoded, religious_groups_in_schools_encoded,\n",
    "                  anti_satellite_test_ban_encoded, aid_to_nicaraguan_contras_encoded, mx_missile_encoded,\n",
    "                  immigration_encoded, synfuels_corporation_cutback_encoded, education_spending_encoded,\n",
    "                  superfund_right_to_sue_encoded, crime_encoded, duty_free_exports_encoded, \n",
    "                  export_administration_act_south_africa_encoded)\n",
    "    return list(features)\n",
    "        "
   ]
  },
  {
   "cell_type": "markdown",
   "metadata": {},
   "source": [
    "## Cross validation"
   ]
  },
  {
   "cell_type": "code",
   "execution_count": 8,
   "metadata": {},
   "outputs": [],
   "source": [
    "cv = KFold(n_splits=5, random_state=None, shuffle=False) \n",
    "\n",
    "def cross_validation(model, df):\n",
    "    precision_scores = []\n",
    "    recall_scores = []\n",
    "    f1_scores = []\n",
    "    \n",
    "    x = df.drop('Class Name', axis = 1)\n",
    "    y = df['Class Name']\n",
    "    \n",
    "    for train_index, test_index in cv.split(x,y):\n",
    "        X_train, X_test, y_train, y_test = train_test_split(x,y,test_size = 0.25)\n",
    "        x_train_features = label_encoding(X_train)\n",
    "        y_train_labels = label_encoder.fit_transform(y_train)\n",
    "        x_test_features = label_encoding(X_test)\n",
    "        y_test_labels = label_encoder.fit_transform(y_test)\n",
    "\n",
    "        model.fit(x_train_features, y_train_labels)\n",
    "        y_pred = model.predict(label_encoding(X_test))\n",
    "        \n",
    "        precision_scores.append(metrics.precision_score(label_encoder.fit_transform(y_test_labels), y_pred))\n",
    "        recall_scores.append(metrics.recall_score(label_encoder.fit_transform(y_test_labels), y_pred))\n",
    "        f1_scores.append(metrics.f1_score(label_encoder.fit_transform(y_test_labels), y_pred))\n",
    "\n",
    "        \n",
    "    print(\"Precision Score: {}\".format(np.mean(precision_scores) * 100))\n",
    "    print(\"Recall Score: {}\".format(np.mean(recall_scores) * 100))\n",
    "    print(\"F-1 Score: {}\".format(np.mean(f1_scores) * 100))"
   ]
  },
  {
   "cell_type": "markdown",
   "metadata": {},
   "source": [
    "## Naive bayes classifier"
   ]
  },
  {
   "cell_type": "code",
   "execution_count": 9,
   "metadata": {},
   "outputs": [],
   "source": [
    "naive_bayes_model = GaussianNB()"
   ]
  },
  {
   "cell_type": "markdown",
   "metadata": {},
   "source": [
    "#### Case I - Discard instances that have missing feature values"
   ]
  },
  {
   "cell_type": "code",
   "execution_count": 10,
   "metadata": {},
   "outputs": [
    {
     "name": "stdout",
     "output_type": "stream",
     "text": [
      "Precision Score: 97.72079772079772\n",
      "Recall Score: 92.61391941391942\n",
      "F-1 Score: 95.03594186582477\n"
     ]
    }
   ],
   "source": [
    "removed_nan_values_nb = dropping_nan_values(dataframe)\n",
    "\n",
    "cross_validation(naive_bayes_model, removed_nan_values_nb)\n"
   ]
  },
  {
   "cell_type": "markdown",
   "metadata": {},
   "source": [
    "#### Case II - Treat “missing” as if it is a value"
   ]
  },
  {
   "cell_type": "code",
   "execution_count": 11,
   "metadata": {},
   "outputs": [
    {
     "name": "stdout",
     "output_type": "stream",
     "text": [
      "Precision Score: 83.516317016317\n",
      "Recall Score: 94.85195585195585\n",
      "F-1 Score: 88.76697912305109\n"
     ]
    }
   ],
   "source": [
    "treated_nan_values_nb = treat_missing_values(dataframe)\n",
    "\n",
    "cross_validation(naive_bayes_model, treated_nan_values_nb)\n"
   ]
  },
  {
   "cell_type": "markdown",
   "metadata": {},
   "source": [
    "#### Case III - impute missing values "
   ]
  },
  {
   "cell_type": "code",
   "execution_count": 12,
   "metadata": {},
   "outputs": [
    {
     "name": "stdout",
     "output_type": "stream",
     "text": [
      "Precision Score: 85.38074353381158\n",
      "Recall Score: 89.76056620472328\n",
      "F-1 Score: 87.42958654475561\n"
     ]
    }
   ],
   "source": [
    "imputed_nan_values_nb = impute_missing_values(dataframe)\n",
    "\n",
    "cross_validation(naive_bayes_model, imputed_nan_values_nb)\n"
   ]
  },
  {
   "cell_type": "markdown",
   "metadata": {},
   "source": [
    "## Decision tree classifier"
   ]
  },
  {
   "cell_type": "code",
   "execution_count": 13,
   "metadata": {},
   "outputs": [],
   "source": [
    "decision_tree_model = DecisionTreeClassifier(criterion='entropy',random_state=0) "
   ]
  },
  {
   "cell_type": "markdown",
   "metadata": {},
   "source": [
    "#### Case I - Discard instances that have missing feature values"
   ]
  },
  {
   "cell_type": "code",
   "execution_count": 14,
   "metadata": {},
   "outputs": [
    {
     "name": "stdout",
     "output_type": "stream",
     "text": [
      "Precision Score: 95.38843196853209\n",
      "Recall Score: 91.69975552902383\n",
      "F-1 Score: 93.41976099278297\n"
     ]
    }
   ],
   "source": [
    "removed_nan_values_dt = dropping_nan_values(dataframe)\n",
    "\n",
    "cross_validation(decision_tree_model, removed_nan_values_dt)\n"
   ]
  },
  {
   "cell_type": "markdown",
   "metadata": {},
   "source": [
    "#### Case II - Treat “missing” as if it is a value"
   ]
  },
  {
   "cell_type": "code",
   "execution_count": 15,
   "metadata": {},
   "outputs": [
    {
     "name": "stdout",
     "output_type": "stream",
     "text": [
      "Precision Score: 88.96283045120255\n",
      "Recall Score: 92.90513145391192\n",
      "F-1 Score: 90.82925713494589\n"
     ]
    }
   ],
   "source": [
    "treated_nan_values_dt = treat_missing_values(dataframe)\n",
    "\n",
    "cross_validation(decision_tree_model, treated_nan_values_dt)\n"
   ]
  },
  {
   "cell_type": "markdown",
   "metadata": {},
   "source": [
    "#### Case III - impute missing values "
   ]
  },
  {
   "cell_type": "code",
   "execution_count": 16,
   "metadata": {},
   "outputs": [
    {
     "name": "stdout",
     "output_type": "stream",
     "text": [
      "Precision Score: 90.90696071233779\n",
      "Recall Score: 95.07218271924154\n",
      "F-1 Score: 92.87095626937307\n"
     ]
    }
   ],
   "source": [
    "imputed_nan_values_dt = impute_missing_values(dataframe)\n",
    "\n",
    "cross_validation(decision_tree_model, imputed_nan_values_dt)\n"
   ]
  }
 ],
 "metadata": {
  "kernelspec": {
   "display_name": "Python 3",
   "language": "python",
   "name": "python3"
  },
  "language_info": {
   "codemirror_mode": {
    "name": "ipython",
    "version": 3
   },
   "file_extension": ".py",
   "mimetype": "text/x-python",
   "name": "python",
   "nbconvert_exporter": "python",
   "pygments_lexer": "ipython3",
   "version": "3.8.5"
  }
 },
 "nbformat": 4,
 "nbformat_minor": 4
}
